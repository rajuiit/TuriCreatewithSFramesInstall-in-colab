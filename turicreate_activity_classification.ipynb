{
  "nbformat": 4,
  "nbformat_minor": 0,
  "metadata": {
    "colab": {
      "name": "turicreate-activity-classification.ipynb",
      "provenance": [],
      "collapsed_sections": [],
      "include_colab_link": true
    },
    "kernelspec": {
      "name": "python3",
      "display_name": "Python 3"
    },
    "accelerator": "GPU"
  },
  "cells": [
    {
      "cell_type": "markdown",
      "metadata": {
        "id": "view-in-github",
        "colab_type": "text"
      },
      "source": [
        "<a href=\"https://colab.research.google.com/github/rajuiit/TuriCreatewithSFramesInstall-in-colab/blob/master/turicreate_activity_classification.ipynb\" target=\"_parent\"><img src=\"https://colab.research.google.com/assets/colab-badge.svg\" alt=\"Open In Colab\"/></a>"
      ]
    },
    {
      "cell_type": "markdown",
      "metadata": {
        "id": "3zKSmHFi38IA",
        "colab_type": "text"
      },
      "source": [
        "# Activity Classification\n",
        "https://apple.github.io/turicreate/docs/userguide/activity_classifier/\n",
        "\n",
        "Activity classification is the task of identifying a pre-defined set of physical actions using motion-sensory inputs. Such sensors include accelerometers, gyroscopes, thermostats, and more found in most handheld devices today.\n",
        "\n",
        "Possible applications include counting swimming laps using a watch's accelerometer data, turning on Bluetooth controlled lights when recognizing a certain gesture using gyroscope data from a handheld phone, or creating shortcuts to your favorite phone applications using hand gestures.\n",
        "\n",
        "The activity classifier in Turi Create creates a deep learning model capable of detecting temporal features in sensor data, lending itself well to the task of activity classification. Before we dive into the model architecture, let's see a working example."
      ]
    },
    {
      "cell_type": "markdown",
      "metadata": {
        "id": "-ywt2dW81uvE",
        "colab_type": "text"
      },
      "source": [
        "## Turi Create and GPU Setup"
      ]
    },
    {
      "cell_type": "code",
      "metadata": {
        "id": "nZBUZmlD1vWh",
        "colab_type": "code",
        "colab": {}
      },
      "source": [
        "!apt install libnvrtc8.0\n",
        "!pip uninstall -y mxnet-cu80 && pip install mxnet-cu80==1.1.0\n",
        "!pip install turicreate"
      ],
      "execution_count": 0,
      "outputs": []
    },
    {
      "cell_type": "markdown",
      "metadata": {
        "id": "Wtd2fPfSbPe9",
        "colab_type": "text"
      },
      "source": [
        "## Google Drive Access\n",
        "\n",
        "You will be asked to click a link to generate a secret key to access your Google Drive. \n",
        "\n",
        "Copy and paste secret key it into the space provided with the notebook."
      ]
    },
    {
      "cell_type": "code",
      "metadata": {
        "id": "BvGd7tK8bQmM",
        "colab_type": "code",
        "outputId": "73652884-cee8-44a9-fee7-3341cbfde329",
        "colab": {
          "base_uri": "https://localhost:8080/",
          "height": 35
        }
      },
      "source": [
        "import os.path\n",
        "from google.colab import drive\n",
        "\n",
        "# mount Google Drive to /content/drive/My Drive/\n",
        "if os.path.isdir(\"/content/drive/My Drive\"):\n",
        "  print(\"Google Drive already mounted\")\n",
        "else:\n",
        "  drive.mount('/content/drive')"
      ],
      "execution_count": 0,
      "outputs": [
        {
          "output_type": "stream",
          "text": [
            "Google Drive already mounted\n"
          ],
          "name": "stdout"
        }
      ]
    },
    {
      "cell_type": "markdown",
      "metadata": {
        "id": "Cv8D8h_8bfQ2",
        "colab_type": "text"
      },
      "source": [
        "## Fetch Data"
      ]
    },
    {
      "cell_type": "code",
      "metadata": {
        "id": "gb2Y5xDHJQoh",
        "colab_type": "code",
        "colab": {}
      },
      "source": [
        "import os.path\n",
        "import urllib.request\n",
        "import tarfile\n",
        "import zipfile\n",
        "import gzip\n",
        "from shutil import copy\n",
        "\n",
        "def fetch_remote_datafile(filename, remote_url):\n",
        "  if os.path.isfile(\"./\" + filename):\n",
        "    print(\"already have \" + filename + \" in workspace\")\n",
        "    return\n",
        "  print(\"fetching \" + filename + \" from \" + remote_url + \"...\")\n",
        "  urllib.request.urlretrieve(remote_url, \"./\" + filename)\n",
        "\n",
        "def cache_datafile_in_drive(filename):\n",
        "  if os.path.isfile(\"./\" + filename) == False:\n",
        "    print(\"cannot cache \" + filename + \", it is not in workspace\")\n",
        "    return\n",
        "  \n",
        "  data_drive_path = \"/content/drive/My Drive/Colab Notebooks/data/\"\n",
        "  if os.path.isfile(data_drive_path + filename):\n",
        "    print(\"\" + filename + \" has already been stored in Google Drive\")\n",
        "  else:\n",
        "    print(\"copying \" + filename + \" to \" + data_drive_path)\n",
        "    copy(\"./\" + filename, data_drive_path)\n",
        "  \n",
        "\n",
        "def load_datafile_from_drive(filename, remote_url=None):\n",
        "  data_drive_path = \"/content/drive/My Drive/Colab Notebooks/data/\"\n",
        "  if os.path.isfile(\"./\" + filename):\n",
        "    print(\"already have \" + filename + \" in workspace\")\n",
        "  elif os.path.isfile(data_drive_path + filename):\n",
        "    print(\"have \" + filename + \" in Google Drive, copying to workspace...\")\n",
        "    copy(data_drive_path + filename, \".\")\n",
        "  elif remote_url != None:\n",
        "    fetch_remote_datafile(filename, remote_url)\n",
        "  else:\n",
        "    print(\"error: you need to manually download \" + filename + \" and put in drive\")\n",
        "    \n",
        "def extract_datafile(filename, expected_extract_artifact=None):\n",
        "  if expected_extract_artifact != None and (os.path.isfile(expected_extract_artifact) or os.path.isdir(expected_extract_artifact)):\n",
        "    print(\"files in \" + filename + \" have already been extracted\")\n",
        "  elif os.path.isfile(\"./\" + filename) == False:\n",
        "    print(\"error: cannot extract \" + filename + \", it is not in the workspace\")\n",
        "  else:\n",
        "    extension = filename.split('.')[-1]\n",
        "    if extension == \"zip\":\n",
        "      print(\"extracting \" + filename + \"...\")\n",
        "      data_file = open(filename, \"rb\")\n",
        "      z = zipfile.ZipFile(data_file)\n",
        "      for name in z.namelist():\n",
        "          print(\"    extracting file\", name)\n",
        "          z.extract(name, \"./\")\n",
        "      data_file.close()\n",
        "    elif extension == \"gz\":\n",
        "      print(\"extracting \" + filename + \"...\")\n",
        "      if filename.split('.')[-2] == \"tar\":\n",
        "        tar = tarfile.open(filename)\n",
        "        tar.extractall()\n",
        "        tar.close()\n",
        "      else:\n",
        "        data_zip_file = gzip.GzipFile(filename, 'rb')\n",
        "        data = data_zip_file.read()\n",
        "        data_zip_file.close()\n",
        "        extracted_file = open('.'.join(filename.split('.')[0:-1]), 'wb')\n",
        "        extracted_file.write(data)\n",
        "        extracted_file.close()\n",
        "    elif extension == \"tar\":\n",
        "      print(\"extracting \" + filename + \"...\")\n",
        "      tar = tarfile.open(filename)\n",
        "      tar.extractall()\n",
        "      tar.close()\n",
        "    elif extension == \"csv\":\n",
        "      print(\"do not need to extract csv\")\n",
        "    else:\n",
        "      print(\"cannot extract \" + filename)\n",
        "      \n",
        "def load_cache_extract_datafile(filename, expected_extract_artifact=None, remote_url=None):\n",
        "  load_datafile_from_drive(filename, remote_url)\n",
        "  extract_datafile(filename, expected_extract_artifact)\n",
        "  cache_datafile_in_drive(filename)\n",
        "  "
      ],
      "execution_count": 0,
      "outputs": []
    },
    {
      "cell_type": "code",
      "metadata": {
        "id": "XjzgLYjNJRGM",
        "colab_type": "code",
        "outputId": "5f8a1560-c7e6-477c-d2cb-4aed5bc0cdea",
        "colab": {
          "base_uri": "https://localhost:8080/",
          "height": 71
        }
      },
      "source": [
        "load_cache_extract_datafile(\"HAPT Data Set.zip\", \"RawData\", \"http://archive.ics.uci.edu/ml/machine-learning-databases/00341/HAPT%20Data%20Set.zip\")"
      ],
      "execution_count": 0,
      "outputs": [
        {
          "output_type": "stream",
          "text": [
            "already have HAPT Data Set.zip in workspace\n",
            "files in HAPT Data Set.zip have already been extracted\n",
            "HAPT Data Set.zip has already been stored in Google Drive\n"
          ],
          "name": "stdout"
        }
      ]
    },
    {
      "cell_type": "markdown",
      "metadata": {
        "id": "AdTJumQccZO8",
        "colab_type": "text"
      },
      "source": [
        "## Setup Turi Create"
      ]
    },
    {
      "cell_type": "code",
      "metadata": {
        "id": "CZH8VDCOcebW",
        "colab_type": "code",
        "colab": {}
      },
      "source": [
        "import mxnet as mx\n",
        "import turicreate as tc"
      ],
      "execution_count": 0,
      "outputs": []
    },
    {
      "cell_type": "code",
      "metadata": {
        "id": "TfwLewM6ce6-",
        "colab_type": "code",
        "colab": {}
      },
      "source": [
        "# Use all GPUs (default)\n",
        "tc.config.set_num_gpus(-1)\n",
        "\n",
        "# Use only 1 GPU\n",
        "#tc.config.set_num_gpus(1)\n",
        "\n",
        "# Use CPU\n",
        "#tc.config.set_num_gpus(0)"
      ],
      "execution_count": 0,
      "outputs": []
    },
    {
      "cell_type": "markdown",
      "metadata": {
        "id": "ei1gcD_bQNVY",
        "colab_type": "text"
      },
      "source": [
        "## Data Preparation\n",
        "\n",
        "https://apple.github.io/turicreate/docs/userguide/activity_classifier/data-preparation.html"
      ]
    },
    {
      "cell_type": "code",
      "metadata": {
        "id": "JiQ0CGKMbEsI",
        "colab_type": "code",
        "outputId": "12f15316-89f0-4181-e986-a38d59eb3307",
        "colab": {
          "base_uri": "https://localhost:8080/",
          "height": 238
        }
      },
      "source": [
        "data_dir = './RawData/'\n",
        "\n",
        "def find_label_for_containing_interval(intervals, index):\n",
        "    containing_interval = intervals[:, 0][(intervals[:, 1] <= index) & (index <= intervals[:, 2])]\n",
        "    if len(containing_interval) == 1:\n",
        "        return containing_interval[0]\n",
        "\n",
        "# Load labels\n",
        "labels = tc.SFrame.read_csv(data_dir + 'labels.txt', delimiter=' ', header=False, verbose=False)\n",
        "labels = labels.rename({'X1': 'exp_id', 'X2': 'user_id', 'X3': 'activity_id', 'X4': 'start', 'X5': 'end'})\n",
        "labels.head()"
      ],
      "execution_count": 0,
      "outputs": [
        {
          "output_type": "execute_result",
          "data": {
            "text/html": [
              "<div style=\"max-height:1000px;max-width:1500px;overflow:auto;\"><table frame=\"box\" rules=\"cols\">\n",
              "    <tr>\n",
              "        <th style=\"padding-left: 1em; padding-right: 1em; text-align: center\">exp_id</th>\n",
              "        <th style=\"padding-left: 1em; padding-right: 1em; text-align: center\">user_id</th>\n",
              "        <th style=\"padding-left: 1em; padding-right: 1em; text-align: center\">activity_id</th>\n",
              "        <th style=\"padding-left: 1em; padding-right: 1em; text-align: center\">start</th>\n",
              "        <th style=\"padding-left: 1em; padding-right: 1em; text-align: center\">end</th>\n",
              "    </tr>\n",
              "    <tr>\n",
              "        <td style=\"padding-left: 1em; padding-right: 1em; text-align: center; vertical-align: top\">1</td>\n",
              "        <td style=\"padding-left: 1em; padding-right: 1em; text-align: center; vertical-align: top\">1</td>\n",
              "        <td style=\"padding-left: 1em; padding-right: 1em; text-align: center; vertical-align: top\">5</td>\n",
              "        <td style=\"padding-left: 1em; padding-right: 1em; text-align: center; vertical-align: top\">250</td>\n",
              "        <td style=\"padding-left: 1em; padding-right: 1em; text-align: center; vertical-align: top\">1232</td>\n",
              "    </tr>\n",
              "    <tr>\n",
              "        <td style=\"padding-left: 1em; padding-right: 1em; text-align: center; vertical-align: top\">1</td>\n",
              "        <td style=\"padding-left: 1em; padding-right: 1em; text-align: center; vertical-align: top\">1</td>\n",
              "        <td style=\"padding-left: 1em; padding-right: 1em; text-align: center; vertical-align: top\">7</td>\n",
              "        <td style=\"padding-left: 1em; padding-right: 1em; text-align: center; vertical-align: top\">1233</td>\n",
              "        <td style=\"padding-left: 1em; padding-right: 1em; text-align: center; vertical-align: top\">1392</td>\n",
              "    </tr>\n",
              "    <tr>\n",
              "        <td style=\"padding-left: 1em; padding-right: 1em; text-align: center; vertical-align: top\">1</td>\n",
              "        <td style=\"padding-left: 1em; padding-right: 1em; text-align: center; vertical-align: top\">1</td>\n",
              "        <td style=\"padding-left: 1em; padding-right: 1em; text-align: center; vertical-align: top\">4</td>\n",
              "        <td style=\"padding-left: 1em; padding-right: 1em; text-align: center; vertical-align: top\">1393</td>\n",
              "        <td style=\"padding-left: 1em; padding-right: 1em; text-align: center; vertical-align: top\">2194</td>\n",
              "    </tr>\n",
              "    <tr>\n",
              "        <td style=\"padding-left: 1em; padding-right: 1em; text-align: center; vertical-align: top\">1</td>\n",
              "        <td style=\"padding-left: 1em; padding-right: 1em; text-align: center; vertical-align: top\">1</td>\n",
              "        <td style=\"padding-left: 1em; padding-right: 1em; text-align: center; vertical-align: top\">8</td>\n",
              "        <td style=\"padding-left: 1em; padding-right: 1em; text-align: center; vertical-align: top\">2195</td>\n",
              "        <td style=\"padding-left: 1em; padding-right: 1em; text-align: center; vertical-align: top\">2359</td>\n",
              "    </tr>\n",
              "    <tr>\n",
              "        <td style=\"padding-left: 1em; padding-right: 1em; text-align: center; vertical-align: top\">1</td>\n",
              "        <td style=\"padding-left: 1em; padding-right: 1em; text-align: center; vertical-align: top\">1</td>\n",
              "        <td style=\"padding-left: 1em; padding-right: 1em; text-align: center; vertical-align: top\">5</td>\n",
              "        <td style=\"padding-left: 1em; padding-right: 1em; text-align: center; vertical-align: top\">2360</td>\n",
              "        <td style=\"padding-left: 1em; padding-right: 1em; text-align: center; vertical-align: top\">3374</td>\n",
              "    </tr>\n",
              "    <tr>\n",
              "        <td style=\"padding-left: 1em; padding-right: 1em; text-align: center; vertical-align: top\">1</td>\n",
              "        <td style=\"padding-left: 1em; padding-right: 1em; text-align: center; vertical-align: top\">1</td>\n",
              "        <td style=\"padding-left: 1em; padding-right: 1em; text-align: center; vertical-align: top\">11</td>\n",
              "        <td style=\"padding-left: 1em; padding-right: 1em; text-align: center; vertical-align: top\">3375</td>\n",
              "        <td style=\"padding-left: 1em; padding-right: 1em; text-align: center; vertical-align: top\">3662</td>\n",
              "    </tr>\n",
              "    <tr>\n",
              "        <td style=\"padding-left: 1em; padding-right: 1em; text-align: center; vertical-align: top\">1</td>\n",
              "        <td style=\"padding-left: 1em; padding-right: 1em; text-align: center; vertical-align: top\">1</td>\n",
              "        <td style=\"padding-left: 1em; padding-right: 1em; text-align: center; vertical-align: top\">6</td>\n",
              "        <td style=\"padding-left: 1em; padding-right: 1em; text-align: center; vertical-align: top\">3663</td>\n",
              "        <td style=\"padding-left: 1em; padding-right: 1em; text-align: center; vertical-align: top\">4538</td>\n",
              "    </tr>\n",
              "    <tr>\n",
              "        <td style=\"padding-left: 1em; padding-right: 1em; text-align: center; vertical-align: top\">1</td>\n",
              "        <td style=\"padding-left: 1em; padding-right: 1em; text-align: center; vertical-align: top\">1</td>\n",
              "        <td style=\"padding-left: 1em; padding-right: 1em; text-align: center; vertical-align: top\">10</td>\n",
              "        <td style=\"padding-left: 1em; padding-right: 1em; text-align: center; vertical-align: top\">4539</td>\n",
              "        <td style=\"padding-left: 1em; padding-right: 1em; text-align: center; vertical-align: top\">4735</td>\n",
              "    </tr>\n",
              "    <tr>\n",
              "        <td style=\"padding-left: 1em; padding-right: 1em; text-align: center; vertical-align: top\">1</td>\n",
              "        <td style=\"padding-left: 1em; padding-right: 1em; text-align: center; vertical-align: top\">1</td>\n",
              "        <td style=\"padding-left: 1em; padding-right: 1em; text-align: center; vertical-align: top\">4</td>\n",
              "        <td style=\"padding-left: 1em; padding-right: 1em; text-align: center; vertical-align: top\">4736</td>\n",
              "        <td style=\"padding-left: 1em; padding-right: 1em; text-align: center; vertical-align: top\">5667</td>\n",
              "    </tr>\n",
              "    <tr>\n",
              "        <td style=\"padding-left: 1em; padding-right: 1em; text-align: center; vertical-align: top\">1</td>\n",
              "        <td style=\"padding-left: 1em; padding-right: 1em; text-align: center; vertical-align: top\">1</td>\n",
              "        <td style=\"padding-left: 1em; padding-right: 1em; text-align: center; vertical-align: top\">9</td>\n",
              "        <td style=\"padding-left: 1em; padding-right: 1em; text-align: center; vertical-align: top\">5668</td>\n",
              "        <td style=\"padding-left: 1em; padding-right: 1em; text-align: center; vertical-align: top\">5859</td>\n",
              "    </tr>\n",
              "</table>\n",
              "[10 rows x 5 columns]<br/>\n",
              "</div>"
            ],
            "text/plain": [
              "Columns:\n",
              "\texp_id\tint\n",
              "\tuser_id\tint\n",
              "\tactivity_id\tint\n",
              "\tstart\tint\n",
              "\tend\tint\n",
              "\n",
              "Rows: 10\n",
              "\n",
              "Data:\n",
              "+--------+---------+-------------+-------+------+\n",
              "| exp_id | user_id | activity_id | start | end  |\n",
              "+--------+---------+-------------+-------+------+\n",
              "|   1    |    1    |      5      |  250  | 1232 |\n",
              "|   1    |    1    |      7      |  1233 | 1392 |\n",
              "|   1    |    1    |      4      |  1393 | 2194 |\n",
              "|   1    |    1    |      8      |  2195 | 2359 |\n",
              "|   1    |    1    |      5      |  2360 | 3374 |\n",
              "|   1    |    1    |      11     |  3375 | 3662 |\n",
              "|   1    |    1    |      6      |  3663 | 4538 |\n",
              "|   1    |    1    |      10     |  4539 | 4735 |\n",
              "|   1    |    1    |      4      |  4736 | 5667 |\n",
              "|   1    |    1    |      9      |  5668 | 5859 |\n",
              "+--------+---------+-------------+-------+------+\n",
              "[10 rows x 5 columns]"
            ]
          },
          "metadata": {
            "tags": []
          },
          "execution_count": 11
        }
      ]
    },
    {
      "cell_type": "markdown",
      "metadata": {
        "id": "a_oKPOf6cvAI",
        "colab_type": "text"
      },
      "source": [
        "Next, we need to get the accelerometer and gyroscope data for each experiment. For each experiment, every sensor's data is in a separate file. In the code below we load the accelerometer and gyroscope data from all experiments into a single SFrame. While loading the collected samples, we also calculate the label for each sample using our previously defined function. The final SFrame contains a column named exp_id to identify each unique sessions."
      ]
    },
    {
      "cell_type": "code",
      "metadata": {
        "id": "MVO9uGTocvqe",
        "colab_type": "code",
        "colab": {}
      },
      "source": [
        "from glob import glob\n",
        "\n",
        "acc_files = glob(data_dir + 'acc_*.txt')\n",
        "gyro_files = glob(data_dir + 'gyro_*.txt')\n",
        "\n",
        "# Load data\n",
        "data = tc.SFrame()\n",
        "files = zip(sorted(acc_files), sorted(gyro_files))\n",
        "for acc_file, gyro_file in files:\n",
        "    exp_id = int(acc_file.split('_')[1][-2:])\n",
        "\n",
        "    # Load accel data\n",
        "    sf = tc.SFrame.read_csv(acc_file, delimiter=' ', header=False, verbose=False)\n",
        "    sf = sf.rename({'X1': 'acc_x', 'X2': 'acc_y', 'X3': 'acc_z'})\n",
        "    sf['exp_id'] = exp_id\n",
        "\n",
        "    # Load gyro data\n",
        "    gyro_sf = tc.SFrame.read_csv(gyro_file, delimiter=' ', header=False, verbose=False)\n",
        "    gyro_sf = gyro_sf.rename({'X1': 'gyro_x', 'X2': 'gyro_y', 'X3': 'gyro_z'})\n",
        "    sf = sf.add_columns(gyro_sf)\n",
        "\n",
        "    # Calc labels\n",
        "    exp_labels = labels[labels['exp_id'] == exp_id][['activity_id', 'start', 'end']].to_numpy()\n",
        "    sf = sf.add_row_number()\n",
        "    sf['activity_id'] = sf['id'].apply(lambda x: find_label_for_containing_interval(exp_labels, x))\n",
        "    sf = sf.remove_columns(['id'])\n",
        "\n",
        "    data = data.append(sf)"
      ],
      "execution_count": 0,
      "outputs": []
    },
    {
      "cell_type": "markdown",
      "metadata": {
        "id": "UVT3HRrQc4zw",
        "colab_type": "text"
      },
      "source": [
        "Finally, we encode the labels back into a readable string format, and save the resulting SFrame."
      ]
    },
    {
      "cell_type": "code",
      "metadata": {
        "id": "rWRH6Mtnc5sU",
        "colab_type": "code",
        "colab": {}
      },
      "source": [
        "target_map = {\n",
        "    1.: 'walking',          \n",
        "    2.: 'climbing_upstairs',\n",
        "    3.: 'climbing_downstairs',\n",
        "    4.: 'sitting',\n",
        "    5.: 'standing',\n",
        "    6.: 'laying'\n",
        "}\n",
        "\n",
        "# Use the same labels used in the experiment\n",
        "data = data.filter_by(list(target_map.keys()), 'activity_id')\n",
        "data['activity'] = data['activity_id'].apply(lambda x: target_map[x])\n",
        "data = data.remove_column('activity_id')\n",
        "\n",
        "data.save('hapt_data.sframe')"
      ],
      "execution_count": 0,
      "outputs": []
    },
    {
      "cell_type": "code",
      "metadata": {
        "id": "fprN0DI7eC0a",
        "colab_type": "code",
        "outputId": "f2b416da-05b8-4f5b-8bc7-41940d1655a3",
        "colab": {
          "base_uri": "https://localhost:8080/",
          "height": 442
        }
      },
      "source": [
        "data.head()"
      ],
      "execution_count": 0,
      "outputs": [
        {
          "output_type": "execute_result",
          "data": {
            "text/html": [
              "<div style=\"max-height:1000px;max-width:1500px;overflow:auto;\"><table frame=\"box\" rules=\"cols\">\n",
              "    <tr>\n",
              "        <th style=\"padding-left: 1em; padding-right: 1em; text-align: center\">acc_x</th>\n",
              "        <th style=\"padding-left: 1em; padding-right: 1em; text-align: center\">acc_y</th>\n",
              "        <th style=\"padding-left: 1em; padding-right: 1em; text-align: center\">acc_z</th>\n",
              "        <th style=\"padding-left: 1em; padding-right: 1em; text-align: center\">exp_id</th>\n",
              "        <th style=\"padding-left: 1em; padding-right: 1em; text-align: center\">gyro_x</th>\n",
              "    </tr>\n",
              "    <tr>\n",
              "        <td style=\"padding-left: 1em; padding-right: 1em; text-align: center; vertical-align: top\">1.020833394742025</td>\n",
              "        <td style=\"padding-left: 1em; padding-right: 1em; text-align: center; vertical-align: top\">-0.1250000020616516</td>\n",
              "        <td style=\"padding-left: 1em; padding-right: 1em; text-align: center; vertical-align: top\">0.105555564319952</td>\n",
              "        <td style=\"padding-left: 1em; padding-right: 1em; text-align: center; vertical-align: top\">1</td>\n",
              "        <td style=\"padding-left: 1em; padding-right: 1em; text-align: center; vertical-align: top\">-0.002748893573880196</td>\n",
              "    </tr>\n",
              "    <tr>\n",
              "        <td style=\"padding-left: 1em; padding-right: 1em; text-align: center; vertical-align: top\">1.025000070391787</td>\n",
              "        <td style=\"padding-left: 1em; padding-right: 1em; text-align: center; vertical-align: top\">-0.1250000020616516</td>\n",
              "        <td style=\"padding-left: 1em; padding-right: 1em; text-align: center; vertical-align: top\">0.1013888947481719</td>\n",
              "        <td style=\"padding-left: 1em; padding-right: 1em; text-align: center; vertical-align: top\">1</td>\n",
              "        <td style=\"padding-left: 1em; padding-right: 1em; text-align: center; vertical-align: top\">-0.0003054326225537807</td>\n",
              "    </tr>\n",
              "    <tr>\n",
              "        <td style=\"padding-left: 1em; padding-right: 1em; text-align: center; vertical-align: top\">1.020833394742025</td>\n",
              "        <td style=\"padding-left: 1em; padding-right: 1em; text-align: center; vertical-align: top\">-0.1250000020616516</td>\n",
              "        <td style=\"padding-left: 1em; padding-right: 1em; text-align: center; vertical-align: top\">0.1041666724366978</td>\n",
              "        <td style=\"padding-left: 1em; padding-right: 1em; text-align: center; vertical-align: top\">1</td>\n",
              "        <td style=\"padding-left: 1em; padding-right: 1em; text-align: center; vertical-align: top\">0.01221730466932058</td>\n",
              "    </tr>\n",
              "    <tr>\n",
              "        <td style=\"padding-left: 1em; padding-right: 1em; text-align: center; vertical-align: top\">1.016666719092262</td>\n",
              "        <td style=\"padding-left: 1em; padding-right: 1em; text-align: center; vertical-align: top\">-0.1250000020616516</td>\n",
              "        <td style=\"padding-left: 1em; padding-right: 1em; text-align: center; vertical-align: top\">0.1083333359304957</td>\n",
              "        <td style=\"padding-left: 1em; padding-right: 1em; text-align: center; vertical-align: top\">1</td>\n",
              "        <td style=\"padding-left: 1em; padding-right: 1em; text-align: center; vertical-align: top\">0.01130100712180138</td>\n",
              "    </tr>\n",
              "    <tr>\n",
              "        <td style=\"padding-left: 1em; padding-right: 1em; text-align: center; vertical-align: top\">1.018055610975516</td>\n",
              "        <td style=\"padding-left: 1em; padding-right: 1em; text-align: center; vertical-align: top\">-0.1277777858281599</td>\n",
              "        <td style=\"padding-left: 1em; padding-right: 1em; text-align: center; vertical-align: top\">0.1083333359304957</td>\n",
              "        <td style=\"padding-left: 1em; padding-right: 1em; text-align: center; vertical-align: top\">1</td>\n",
              "        <td style=\"padding-left: 1em; padding-right: 1em; text-align: center; vertical-align: top\">0.01099557429552078</td>\n",
              "    </tr>\n",
              "    <tr>\n",
              "        <td style=\"padding-left: 1em; padding-right: 1em; text-align: center; vertical-align: top\">1.018055610975516</td>\n",
              "        <td style=\"padding-left: 1em; padding-right: 1em; text-align: center; vertical-align: top\">-0.1291666655554495</td>\n",
              "        <td style=\"padding-left: 1em; padding-right: 1em; text-align: center; vertical-align: top\">0.1041666724366978</td>\n",
              "        <td style=\"padding-left: 1em; padding-right: 1em; text-align: center; vertical-align: top\">1</td>\n",
              "        <td style=\"padding-left: 1em; padding-right: 1em; text-align: center; vertical-align: top\">0.009162978269159794</td>\n",
              "    </tr>\n",
              "    <tr>\n",
              "        <td style=\"padding-left: 1em; padding-right: 1em; text-align: center; vertical-align: top\">1.01944450285877</td>\n",
              "        <td style=\"padding-left: 1em; padding-right: 1em; text-align: center; vertical-align: top\">-0.1250000020616516</td>\n",
              "        <td style=\"padding-left: 1em; padding-right: 1em; text-align: center; vertical-align: top\">0.1013888947481719</td>\n",
              "        <td style=\"padding-left: 1em; padding-right: 1em; text-align: center; vertical-align: top\">1</td>\n",
              "        <td style=\"padding-left: 1em; padding-right: 1em; text-align: center; vertical-align: top\">0.01007927674800158</td>\n",
              "    </tr>\n",
              "    <tr>\n",
              "        <td style=\"padding-left: 1em; padding-right: 1em; text-align: center; vertical-align: top\">1.016666719092262</td>\n",
              "        <td style=\"padding-left: 1em; padding-right: 1em; text-align: center; vertical-align: top\">-0.1236111101783975</td>\n",
              "        <td style=\"padding-left: 1em; padding-right: 1em; text-align: center; vertical-align: top\">0.09722222517639174</td>\n",
              "        <td style=\"padding-left: 1em; padding-right: 1em; text-align: center; vertical-align: top\">1</td>\n",
              "        <td style=\"padding-left: 1em; padding-right: 1em; text-align: center; vertical-align: top\">0.01374446786940098</td>\n",
              "    </tr>\n",
              "    <tr>\n",
              "        <td style=\"padding-left: 1em; padding-right: 1em; text-align: center; vertical-align: top\">1.020833394742025</td>\n",
              "        <td style=\"padding-left: 1em; padding-right: 1em; text-align: center; vertical-align: top\">-0.1277777858281599</td>\n",
              "        <td style=\"padding-left: 1em; padding-right: 1em; text-align: center; vertical-align: top\">0.09861111705964588</td>\n",
              "        <td style=\"padding-left: 1em; padding-right: 1em; text-align: center; vertical-align: top\">1</td>\n",
              "        <td style=\"padding-left: 1em; padding-right: 1em; text-align: center; vertical-align: top\">0.009773843921720982</td>\n",
              "    </tr>\n",
              "    <tr>\n",
              "        <td style=\"padding-left: 1em; padding-right: 1em; text-align: center; vertical-align: top\">1.01944450285877</td>\n",
              "        <td style=\"padding-left: 1em; padding-right: 1em; text-align: center; vertical-align: top\">-0.1152777831908018</td>\n",
              "        <td style=\"padding-left: 1em; padding-right: 1em; text-align: center; vertical-align: top\">0.09444444748786576</td>\n",
              "        <td style=\"padding-left: 1em; padding-right: 1em; text-align: center; vertical-align: top\">1</td>\n",
              "        <td style=\"padding-left: 1em; padding-right: 1em; text-align: center; vertical-align: top\">0.01649336144328117</td>\n",
              "    </tr>\n",
              "</table>\n",
              "<table frame=\"box\" rules=\"cols\">\n",
              "    <tr>\n",
              "        <th style=\"padding-left: 1em; padding-right: 1em; text-align: center\">gyro_y</th>\n",
              "        <th style=\"padding-left: 1em; padding-right: 1em; text-align: center\">gyro_z</th>\n",
              "        <th style=\"padding-left: 1em; padding-right: 1em; text-align: center\">activity</th>\n",
              "    </tr>\n",
              "    <tr>\n",
              "        <td style=\"padding-left: 1em; padding-right: 1em; text-align: center; vertical-align: top\">-0.00427605677396059</td>\n",
              "        <td style=\"padding-left: 1em; padding-right: 1em; text-align: center; vertical-align: top\">0.002748893573880196</td>\n",
              "        <td style=\"padding-left: 1em; padding-right: 1em; text-align: center; vertical-align: top\">standing</td>\n",
              "    </tr>\n",
              "    <tr>\n",
              "        <td style=\"padding-left: 1em; padding-right: 1em; text-align: center; vertical-align: top\">-0.002138028386980295</td>\n",
              "        <td style=\"padding-left: 1em; padding-right: 1em; text-align: center; vertical-align: top\">0.006108652334660292</td>\n",
              "        <td style=\"padding-left: 1em; padding-right: 1em; text-align: center; vertical-align: top\">standing</td>\n",
              "    </tr>\n",
              "    <tr>\n",
              "        <td style=\"padding-left: 1em; padding-right: 1em; text-align: center; vertical-align: top\">0.0009162978967651724</td>\n",
              "        <td style=\"padding-left: 1em; padding-right: 1em; text-align: center; vertical-align: top\">-0.00733038317412138</td>\n",
              "        <td style=\"padding-left: 1em; padding-right: 1em; text-align: center; vertical-align: top\">standing</td>\n",
              "    </tr>\n",
              "    <tr>\n",
              "        <td style=\"padding-left: 1em; padding-right: 1em; text-align: center; vertical-align: top\">-0.001832595793530345</td>\n",
              "        <td style=\"padding-left: 1em; padding-right: 1em; text-align: center; vertical-align: top\">-0.006414085160940886</td>\n",
              "        <td style=\"padding-left: 1em; padding-right: 1em; text-align: center; vertical-align: top\">standing</td>\n",
              "    </tr>\n",
              "    <tr>\n",
              "        <td style=\"padding-left: 1em; padding-right: 1em; text-align: center; vertical-align: top\">-0.001527163083665073</td>\n",
              "        <td style=\"padding-left: 1em; padding-right: 1em; text-align: center; vertical-align: top\">-0.004886921960860491</td>\n",
              "        <td style=\"padding-left: 1em; padding-right: 1em; text-align: center; vertical-align: top\">standing</td>\n",
              "    </tr>\n",
              "    <tr>\n",
              "        <td style=\"padding-left: 1em; padding-right: 1em; text-align: center; vertical-align: top\">-0.003054326167330146</td>\n",
              "        <td style=\"padding-left: 1em; padding-right: 1em; text-align: center; vertical-align: top\">0.01007927674800158</td>\n",
              "        <td style=\"padding-left: 1em; padding-right: 1em; text-align: center; vertical-align: top\">standing</td>\n",
              "    </tr>\n",
              "    <tr>\n",
              "        <td style=\"padding-left: 1em; padding-right: 1em; text-align: center; vertical-align: top\">-0.00366519158706069</td>\n",
              "        <td style=\"padding-left: 1em; padding-right: 1em; text-align: center; vertical-align: top\">0.0003054326225537807</td>\n",
              "        <td style=\"padding-left: 1em; padding-right: 1em; text-align: center; vertical-align: top\">standing</td>\n",
              "    </tr>\n",
              "    <tr>\n",
              "        <td style=\"padding-left: 1em; padding-right: 1em; text-align: center; vertical-align: top\">-0.01496619824320078</td>\n",
              "        <td style=\"padding-left: 1em; padding-right: 1em; text-align: center; vertical-align: top\">0.00427605677396059</td>\n",
              "        <td style=\"padding-left: 1em; padding-right: 1em; text-align: center; vertical-align: top\">standing</td>\n",
              "    </tr>\n",
              "    <tr>\n",
              "        <td style=\"padding-left: 1em; padding-right: 1em; text-align: center; vertical-align: top\">-0.006414085160940886</td>\n",
              "        <td style=\"padding-left: 1em; padding-right: 1em; text-align: center; vertical-align: top\">0.0003054326225537807</td>\n",
              "        <td style=\"padding-left: 1em; padding-right: 1em; text-align: center; vertical-align: top\">standing</td>\n",
              "    </tr>\n",
              "    <tr>\n",
              "        <td style=\"padding-left: 1em; padding-right: 1em; text-align: center; vertical-align: top\">0.00366519158706069</td>\n",
              "        <td style=\"padding-left: 1em; padding-right: 1em; text-align: center; vertical-align: top\">0.003359758760780096</td>\n",
              "        <td style=\"padding-left: 1em; padding-right: 1em; text-align: center; vertical-align: top\">standing</td>\n",
              "    </tr>\n",
              "</table>\n",
              "[10 rows x 8 columns]<br/>\n",
              "</div>"
            ],
            "text/plain": [
              "Columns:\n",
              "\tacc_x\tfloat\n",
              "\tacc_y\tfloat\n",
              "\tacc_z\tfloat\n",
              "\texp_id\tint\n",
              "\tgyro_x\tfloat\n",
              "\tgyro_y\tfloat\n",
              "\tgyro_z\tfloat\n",
              "\tactivity\tstr\n",
              "\n",
              "Rows: 10\n",
              "\n",
              "Data:\n",
              "+-------------------+---------------------+---------------------+--------+\n",
              "|       acc_x       |        acc_y        |        acc_z        | exp_id |\n",
              "+-------------------+---------------------+---------------------+--------+\n",
              "| 1.020833394742025 | -0.1250000020616516 |  0.105555564319952  |   1    |\n",
              "| 1.025000070391787 | -0.1250000020616516 |  0.1013888947481719 |   1    |\n",
              "| 1.020833394742025 | -0.1250000020616516 |  0.1041666724366978 |   1    |\n",
              "| 1.016666719092262 | -0.1250000020616516 |  0.1083333359304957 |   1    |\n",
              "| 1.018055610975516 | -0.1277777858281599 |  0.1083333359304957 |   1    |\n",
              "| 1.018055610975516 | -0.1291666655554495 |  0.1041666724366978 |   1    |\n",
              "|  1.01944450285877 | -0.1250000020616516 |  0.1013888947481719 |   1    |\n",
              "| 1.016666719092262 | -0.1236111101783975 | 0.09722222517639174 |   1    |\n",
              "| 1.020833394742025 | -0.1277777858281599 | 0.09861111705964588 |   1    |\n",
              "|  1.01944450285877 | -0.1152777831908018 | 0.09444444748786576 |   1    |\n",
              "+-------------------+---------------------+---------------------+--------+\n",
              "+------------------------+-----------------------+-----------------------+\n",
              "|         gyro_x         |         gyro_y        |         gyro_z        |\n",
              "+------------------------+-----------------------+-----------------------+\n",
              "| -0.002748893573880196  |  -0.00427605677396059 |  0.002748893573880196 |\n",
              "| -0.0003054326225537807 | -0.002138028386980295 |  0.006108652334660292 |\n",
              "|  0.01221730466932058   | 0.0009162978967651724 |  -0.00733038317412138 |\n",
              "|  0.01130100712180138   | -0.001832595793530345 | -0.006414085160940886 |\n",
              "|  0.01099557429552078   | -0.001527163083665073 | -0.004886921960860491 |\n",
              "|  0.009162978269159794  | -0.003054326167330146 |  0.01007927674800158  |\n",
              "|  0.01007927674800158   |  -0.00366519158706069 | 0.0003054326225537807 |\n",
              "|  0.01374446786940098   |  -0.01496619824320078 |  0.00427605677396059  |\n",
              "|  0.009773843921720982  | -0.006414085160940886 | 0.0003054326225537807 |\n",
              "|  0.01649336144328117   |  0.00366519158706069  |  0.003359758760780096 |\n",
              "+------------------------+-----------------------+-----------------------+\n",
              "+----------+\n",
              "| activity |\n",
              "+----------+\n",
              "| standing |\n",
              "| standing |\n",
              "| standing |\n",
              "| standing |\n",
              "| standing |\n",
              "| standing |\n",
              "| standing |\n",
              "| standing |\n",
              "| standing |\n",
              "| standing |\n",
              "+----------+\n",
              "[10 rows x 8 columns]"
            ]
          },
          "metadata": {
            "tags": []
          },
          "execution_count": 15
        }
      ]
    },
    {
      "cell_type": "code",
      "metadata": {
        "id": "mI82V7dvho-6",
        "colab_type": "code",
        "outputId": "2c8c5bc4-3871-40ed-feb6-8e30f1e334f8",
        "colab": {
          "base_uri": "https://localhost:8080/",
          "height": 164
        }
      },
      "source": [
        "data.groupby('activity', [tc.aggregate.COUNT]).sort(\"Count\", ascending = False)"
      ],
      "execution_count": 0,
      "outputs": [
        {
          "output_type": "execute_result",
          "data": {
            "text/html": [
              "<div style=\"max-height:1000px;max-width:1500px;overflow:auto;\"><table frame=\"box\" rules=\"cols\">\n",
              "    <tr>\n",
              "        <th style=\"padding-left: 1em; padding-right: 1em; text-align: center\">activity</th>\n",
              "        <th style=\"padding-left: 1em; padding-right: 1em; text-align: center\">Count</th>\n",
              "    </tr>\n",
              "    <tr>\n",
              "        <td style=\"padding-left: 1em; padding-right: 1em; text-align: center; vertical-align: top\">standing</td>\n",
              "        <td style=\"padding-left: 1em; padding-right: 1em; text-align: center; vertical-align: top\">138105</td>\n",
              "    </tr>\n",
              "    <tr>\n",
              "        <td style=\"padding-left: 1em; padding-right: 1em; text-align: center; vertical-align: top\">laying</td>\n",
              "        <td style=\"padding-left: 1em; padding-right: 1em; text-align: center; vertical-align: top\">136865</td>\n",
              "    </tr>\n",
              "    <tr>\n",
              "        <td style=\"padding-left: 1em; padding-right: 1em; text-align: center; vertical-align: top\">sitting</td>\n",
              "        <td style=\"padding-left: 1em; padding-right: 1em; text-align: center; vertical-align: top\">126677</td>\n",
              "    </tr>\n",
              "    <tr>\n",
              "        <td style=\"padding-left: 1em; padding-right: 1em; text-align: center; vertical-align: top\">walking</td>\n",
              "        <td style=\"padding-left: 1em; padding-right: 1em; text-align: center; vertical-align: top\">122091</td>\n",
              "    </tr>\n",
              "    <tr>\n",
              "        <td style=\"padding-left: 1em; padding-right: 1em; text-align: center; vertical-align: top\">climbing_upstairs</td>\n",
              "        <td style=\"padding-left: 1em; padding-right: 1em; text-align: center; vertical-align: top\">116707</td>\n",
              "    </tr>\n",
              "    <tr>\n",
              "        <td style=\"padding-left: 1em; padding-right: 1em; text-align: center; vertical-align: top\">climbing_downstairs</td>\n",
              "        <td style=\"padding-left: 1em; padding-right: 1em; text-align: center; vertical-align: top\">107961</td>\n",
              "    </tr>\n",
              "</table>\n",
              "[6 rows x 2 columns]<br/>\n",
              "</div>"
            ],
            "text/plain": [
              "Columns:\n",
              "\tactivity\tstr\n",
              "\tCount\tint\n",
              "\n",
              "Rows: 6\n",
              "\n",
              "Data:\n",
              "+---------------------+--------+\n",
              "|       activity      | Count  |\n",
              "+---------------------+--------+\n",
              "|       standing      | 138105 |\n",
              "|        laying       | 136865 |\n",
              "|       sitting       | 126677 |\n",
              "|       walking       | 122091 |\n",
              "|  climbing_upstairs  | 116707 |\n",
              "| climbing_downstairs | 107961 |\n",
              "+---------------------+--------+\n",
              "[6 rows x 2 columns]"
            ]
          },
          "metadata": {
            "tags": []
          },
          "execution_count": 16
        }
      ]
    },
    {
      "cell_type": "markdown",
      "metadata": {
        "id": "ikL5gDh-QQW5",
        "colab_type": "text"
      },
      "source": [
        "## Example Activity Classififcation - HAPT Data"
      ]
    },
    {
      "cell_type": "code",
      "metadata": {
        "id": "Am3pqXk2e4Yh",
        "colab_type": "code",
        "colab": {}
      },
      "source": [
        "# Load sessions from preprocessed data\n",
        "data = tc.SFrame('hapt_data.sframe')"
      ],
      "execution_count": 0,
      "outputs": []
    },
    {
      "cell_type": "code",
      "metadata": {
        "id": "yy_6w2sjtB7C",
        "colab_type": "code",
        "colab": {}
      },
      "source": [
        "# Train/test split by recording sessions\n",
        "train, test = tc.activity_classifier.util.random_split_by_session(data, session_id='exp_id', fraction=0.8)"
      ],
      "execution_count": 0,
      "outputs": []
    },
    {
      "cell_type": "code",
      "metadata": {
        "id": "U9KR53TtePFI",
        "colab_type": "code",
        "outputId": "35ed0af1-d681-468d-d837-0f8c363f2d08",
        "colab": {
          "base_uri": "https://localhost:8080/",
          "height": 370
        }
      },
      "source": [
        "# Create an activity classifier\n",
        "model = tc.activity_classifier.create(train, session_id='exp_id', target='activity', prediction_window=50)"
      ],
      "execution_count": 0,
      "outputs": [
        {
          "output_type": "stream",
          "text": [
            "The dataset has less than the minimum of 100 sessions required for train-validation split. Continuing without validation set\n"
          ],
          "name": "stdout"
        },
        {
          "output_type": "display_data",
          "data": {
            "text/html": [
              "<pre>Pre-processing 585143 samples...</pre>"
            ],
            "text/plain": [
              "Pre-processing 585143 samples..."
            ]
          },
          "metadata": {
            "tags": []
          }
        },
        {
          "output_type": "display_data",
          "data": {
            "text/html": [
              "<pre>Using sequences of size 1000 for model creation.</pre>"
            ],
            "text/plain": [
              "Using sequences of size 1000 for model creation."
            ]
          },
          "metadata": {
            "tags": []
          }
        },
        {
          "output_type": "display_data",
          "data": {
            "text/html": [
              "<pre>Processed a total of 48 sessions.</pre>"
            ],
            "text/plain": [
              "Processed a total of 48 sessions."
            ]
          },
          "metadata": {
            "tags": []
          }
        },
        {
          "output_type": "stream",
          "text": [
            "Using GPU to create model (CUDA)\n",
            "+----------------+----------------+----------------+----------------+\n",
            "| Iteration      | Train Accuracy | Train Loss     | Elapsed Time   |\n",
            "+----------------+----------------+----------------+----------------+\n",
            "| 1              | 0.623          | 0.977          | 0.6            |\n",
            "| 2              | 0.810          | 0.541          | 1.2            |\n",
            "| 3              | 0.846          | 0.412          | 1.8            |\n",
            "| 4              | 0.863          | 0.359          | 2.4            |\n",
            "| 5              | 0.873          | 0.322          | 3.0            |\n",
            "| 6              | 0.889          | 0.293          | 3.6            |\n",
            "| 7              | 0.895          | 0.264          | 4.2            |\n",
            "| 8              | 0.902          | 0.242          | 4.8            |\n",
            "| 9              | 0.911          | 0.224          | 5.4            |\n",
            "| 10             | 0.916          | 0.208          | 6.0            |\n",
            "+----------------+----------------+----------------+----------------+\n",
            "Training complete\n",
            "Total Time Spent: 5.95675s\n"
          ],
          "name": "stdout"
        }
      ]
    },
    {
      "cell_type": "code",
      "metadata": {
        "id": "wEDXZ0VaeQf6",
        "colab_type": "code",
        "outputId": "5a9ea21d-57b5-4413-a05f-397db276f7a9",
        "colab": {
          "base_uri": "https://localhost:8080/",
          "height": 910
        }
      },
      "source": [
        "# Evaluate the model and save the results into a dictionary\n",
        "metrics = model.evaluate(test)\n",
        "print(metrics)"
      ],
      "execution_count": 0,
      "outputs": [
        {
          "output_type": "stream",
          "text": [
            "{'accuracy': 0.9324280455461433, 'auc': 0.994000145914642, 'precision': 0.9344077064028339, 'recall': 0.9313875060212965, 'f1_score': 0.9325884730108659, 'log_loss': 0.2183073822297761, 'confusion_matrix': Columns:\n",
            "\ttarget_label\tstr\n",
            "\tpredicted_label\tstr\n",
            "\tcount\tint\n",
            "\n",
            "Rows: 31\n",
            "\n",
            "Data:\n",
            "+---------------------+---------------------+-------+\n",
            "|     target_label    |   predicted_label   | count |\n",
            "+---------------------+---------------------+-------+\n",
            "| climbing_downstairs |  climbing_upstairs  |  640  |\n",
            "|  climbing_upstairs  |  climbing_upstairs  | 23073 |\n",
            "|  climbing_upstairs  | climbing_downstairs |  1048 |\n",
            "|        laying       |       walking       |   31  |\n",
            "| climbing_downstairs | climbing_downstairs | 21240 |\n",
            "|       sitting       |       standing      |  3346 |\n",
            "|        laying       |        laying       | 29554 |\n",
            "|       standing      |       standing      | 29827 |\n",
            "|       walking       |       sitting       |  1351 |\n",
            "|       sitting       |       sitting       | 25134 |\n",
            "+---------------------+---------------------+-------+\n",
            "[31 rows x 3 columns]\n",
            "Note: Only the head of the SFrame is printed.\n",
            "You can use print_rows(num_rows=m, num_columns=n) to print more rows and columns., 'roc_curve': Columns:\n",
            "\tthreshold\tfloat\n",
            "\tfpr\tfloat\n",
            "\ttpr\tfloat\n",
            "\tp\tint\n",
            "\tn\tint\n",
            "\tclass\tstr\n",
            "\n",
            "Rows: 600006\n",
            "\n",
            "Data:\n",
            "+-----------+--------------------+-----+-------+--------+---------------------+\n",
            "| threshold |        fpr         | tpr |   p   |   n    |        class        |\n",
            "+-----------+--------------------+-----+-------+--------+---------------------+\n",
            "|    0.0    |        1.0         | 1.0 | 23039 | 140224 | climbing_downstairs |\n",
            "|   1e-05   | 0.9458010041077134 | 1.0 | 23039 | 140224 | climbing_downstairs |\n",
            "|   2e-05   | 0.9026557507987221 | 1.0 | 23039 | 140224 | climbing_downstairs |\n",
            "|   3e-05   | 0.8837574167047011 | 1.0 | 23039 | 140224 | climbing_downstairs |\n",
            "|   4e-05   | 0.8687813783660429 | 1.0 | 23039 | 140224 | climbing_downstairs |\n",
            "|   5e-05   | 0.8470304655408489 | 1.0 | 23039 | 140224 | climbing_downstairs |\n",
            "|   6e-05   | 0.8288452761296212 | 1.0 | 23039 | 140224 | climbing_downstairs |\n",
            "|   7e-05   | 0.813869237790963  | 1.0 | 23039 | 140224 | climbing_downstairs |\n",
            "|   8e-05   | 0.8056680739388408 | 1.0 | 23039 | 140224 | climbing_downstairs |\n",
            "|   9e-05   | 0.797823482428115  | 1.0 | 23039 | 140224 | climbing_downstairs |\n",
            "+-----------+--------------------+-----+-------+--------+---------------------+\n",
            "[600006 rows x 6 columns]\n",
            "Note: Only the head of the SFrame is printed.\n",
            "You can use print_rows(num_rows=m, num_columns=n) to print more rows and columns.}\n"
          ],
          "name": "stdout"
        }
      ]
    },
    {
      "cell_type": "code",
      "metadata": {
        "id": "0211dGgJeRsh",
        "colab_type": "code",
        "outputId": "8ec5c45c-5bd3-4c8c-f691-81fd333168dc",
        "colab": {
          "base_uri": "https://localhost:8080/",
          "height": 34
        }
      },
      "source": [
        "print(metrics['accuracy'])"
      ],
      "execution_count": 0,
      "outputs": [
        {
          "output_type": "stream",
          "text": [
            "0.9324280455461433\n"
          ],
          "name": "stdout"
        }
      ]
    },
    {
      "cell_type": "markdown",
      "metadata": {
        "id": "4ErNlq_vfhby",
        "colab_type": "text"
      },
      "source": [
        "Since we have created the model with samples taken at 50Hz and set the prediction_window to 50, we will get one prediction per second. Invoking our newly created model on the above 3-seconds walking example produces the following per-second predictions:"
      ]
    },
    {
      "cell_type": "code",
      "metadata": {
        "id": "0wldXO3kfjdv",
        "colab_type": "code",
        "outputId": "772997a2-0d54-41da-c1b7-20428cf7cabd",
        "colab": {
          "base_uri": "https://localhost:8080/",
          "height": 109
        }
      },
      "source": [
        "walking_3_sec = data[(data['activity'] == 'walking') & (data['exp_id'] == 1)][1000:1150]\n",
        "model.predict(walking_3_sec, output_frequency='per_window')"
      ],
      "execution_count": 0,
      "outputs": [
        {
          "output_type": "execute_result",
          "data": {
            "text/html": [
              "<div style=\"max-height:1000px;max-width:1500px;overflow:auto;\"><table frame=\"box\" rules=\"cols\">\n",
              "    <tr>\n",
              "        <th style=\"padding-left: 1em; padding-right: 1em; text-align: center\">prediction_id</th>\n",
              "        <th style=\"padding-left: 1em; padding-right: 1em; text-align: center\">exp_id</th>\n",
              "        <th style=\"padding-left: 1em; padding-right: 1em; text-align: center\">class</th>\n",
              "    </tr>\n",
              "    <tr>\n",
              "        <td style=\"padding-left: 1em; padding-right: 1em; text-align: center; vertical-align: top\">0</td>\n",
              "        <td style=\"padding-left: 1em; padding-right: 1em; text-align: center; vertical-align: top\">1</td>\n",
              "        <td style=\"padding-left: 1em; padding-right: 1em; text-align: center; vertical-align: top\">walking</td>\n",
              "    </tr>\n",
              "    <tr>\n",
              "        <td style=\"padding-left: 1em; padding-right: 1em; text-align: center; vertical-align: top\">1</td>\n",
              "        <td style=\"padding-left: 1em; padding-right: 1em; text-align: center; vertical-align: top\">1</td>\n",
              "        <td style=\"padding-left: 1em; padding-right: 1em; text-align: center; vertical-align: top\">walking</td>\n",
              "    </tr>\n",
              "    <tr>\n",
              "        <td style=\"padding-left: 1em; padding-right: 1em; text-align: center; vertical-align: top\">2</td>\n",
              "        <td style=\"padding-left: 1em; padding-right: 1em; text-align: center; vertical-align: top\">1</td>\n",
              "        <td style=\"padding-left: 1em; padding-right: 1em; text-align: center; vertical-align: top\">walking</td>\n",
              "    </tr>\n",
              "</table>\n",
              "[3 rows x 3 columns]<br/>\n",
              "</div>"
            ],
            "text/plain": [
              "Columns:\n",
              "\tprediction_id\tint\n",
              "\texp_id\tint\n",
              "\tclass\tstr\n",
              "\n",
              "Rows: 3\n",
              "\n",
              "Data:\n",
              "+---------------+--------+---------+\n",
              "| prediction_id | exp_id |  class  |\n",
              "+---------------+--------+---------+\n",
              "|       0       |   1    | walking |\n",
              "|       1       |   1    | walking |\n",
              "|       2       |   1    | walking |\n",
              "+---------------+--------+---------+\n",
              "[3 rows x 3 columns]"
            ]
          },
          "metadata": {
            "tags": []
          },
          "execution_count": 12
        }
      ]
    },
    {
      "cell_type": "markdown",
      "metadata": {
        "id": "8osqXiCQP2Vk",
        "colab_type": "text"
      },
      "source": [
        "## Save / Export Model"
      ]
    },
    {
      "cell_type": "code",
      "metadata": {
        "id": "skcTzbLiP0NU",
        "colab_type": "code",
        "colab": {}
      },
      "source": [
        "# Save the model for later use in Turi Create\n",
        "model.save('ActivityClassifier.model')"
      ],
      "execution_count": 0,
      "outputs": []
    },
    {
      "cell_type": "code",
      "metadata": {
        "id": "gsLbJ0M5P1iR",
        "colab_type": "code",
        "outputId": "3cec968c-7f20-4ba8-fb8e-bb806ae84979",
        "colab": {
          "base_uri": "https://localhost:8080/",
          "height": 67
        }
      },
      "source": [
        "# Export for use in Core ML\n",
        "model.export_coreml('ActivityClassifier.mlmodel')"
      ],
      "execution_count": 0,
      "outputs": [
        {
          "output_type": "stream",
          "text": [
            "/usr/local/lib/python3.6/dist-packages/coremltools/_deps/__init__.py:118: DeprecationWarning: The 'warn' function is deprecated, use 'warning' instead\n",
            "  % (tensorflow.__version__, TF_MAX_VERSION))\n",
            "WARNING:root:TensorFlow version 1.10.1 detected. Last version known to be fully compatible is 1.5.0 .\n"
          ],
          "name": "stderr"
        }
      ]
    },
    {
      "cell_type": "code",
      "metadata": {
        "id": "y9zcbtW7fuPS",
        "colab_type": "code",
        "colab": {}
      },
      "source": [
        "# download mlmodel locally\n",
        "from google.colab import files\n",
        "files.download(\"ActivityClassifier.mlmodel\")"
      ],
      "execution_count": 0,
      "outputs": []
    },
    {
      "cell_type": "code",
      "metadata": {
        "id": "BZiVwtK1fy9F",
        "colab_type": "code",
        "outputId": "531297da-e360-4bfb-8b09-6d424bb3c584",
        "colab": {
          "base_uri": "https://localhost:8080/",
          "height": 34
        }
      },
      "source": [
        "# copy model to Google Drive\n",
        "from shutil import copy\n",
        "copy(\"/content/ActivityClassifier.mlmodel\", \"/content/drive/My Drive/Colab Notebooks/data/models/ActivityClassifier.mlmodel\")"
      ],
      "execution_count": 0,
      "outputs": [
        {
          "output_type": "execute_result",
          "data": {
            "text/plain": [
              "'/content/drive/Colab Notebooks/data/models/ActivityClassifier.mlmodel'"
            ]
          },
          "metadata": {
            "tags": []
          },
          "execution_count": 13
        }
      ]
    },
    {
      "cell_type": "code",
      "metadata": {
        "id": "kJeYR7haf2b6",
        "colab_type": "code",
        "outputId": "4688a2cf-9b58-4f12-c2d5-ea8a50a795df",
        "colab": {
          "base_uri": "https://localhost:8080/",
          "height": 34
        }
      },
      "source": [
        "# copy model to Google Drive\n",
        "from shutil import copytree\n",
        "copytree(\"/content/ActivityClassifier.model\", \"/content/drive/My Drive/Colab Notebooks/data/models/ActivityClassifier.model\")"
      ],
      "execution_count": 0,
      "outputs": [
        {
          "output_type": "execute_result",
          "data": {
            "text/plain": [
              "'/content/drive/Colab Notebooks/data/models/ActivityClassifier.model'"
            ]
          },
          "metadata": {
            "tags": []
          },
          "execution_count": 15
        }
      ]
    },
    {
      "cell_type": "markdown",
      "metadata": {
        "id": "Q7RgoTcpgaKq",
        "colab_type": "text"
      },
      "source": [
        "## How does this work?\n",
        "\n",
        "The deep learning model relies on convolutional layers to extract temporal features from a single prediction window, for example an arching movement could possibly be a strong indicator of swimming. Furthermore, it relies on recurrent layers to extract temporal features over time, for example if a subject was swimming in the previous timestamp, then it is most likely not sky diving in the next. Below is a sketch of the neural network used for the activity classifier in Turi Create.\n",
        "\n",
        "![deep learning model](https://apple.github.io/turicreate/docs/userguide/activity_classifier/images/activity_classifier_network.png)\n",
        "\n",
        "A single input to the neural network is a session as defined in the previous section. The convolutional layer operates on each prediction window, finding spatial features that may be relevant to the labeled activities. \n",
        "\n",
        "![prediction window](https://apple.github.io/turicreate/docs/userguide/activity_classifier/images/convolutional_filter.png)\n",
        "\n",
        "The output of the convolutional layer is a vector representation for each prediction window, encoding these learnt features. The recurrent layer takes as input a sequence of these vectors.\n",
        "\n",
        "The recurrent layer is specialized for learning temporal features across sequences. For example, it may learn that spatial features associated with walking are more likely to occur after detecting spatial features associated with running. These features are further encoded into the output of the recurrent layer.\n",
        "\n",
        "In order to detect these features along sessions the recurrent layer takes into account it's own state - the output of the recurrent layer for the previous prediction window. The output of the recurrent layer for the current prediction window is turned into a probability vector across all desired activities to produce the final classification."
      ]
    },
    {
      "cell_type": "markdown",
      "metadata": {
        "id": "licB01Ek33VN",
        "colab_type": "text"
      },
      "source": [
        "Blogs:\n",
        "*   https://medium.com/@howal/activity-monitoring-with-apples-turi-create-machine-learning-1043ce5b9203"
      ]
    }
  ]
}